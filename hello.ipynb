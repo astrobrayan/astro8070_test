{
 "cells": [
  {
   "cell_type": "code",
   "execution_count": null,
   "id": "90dc49e5-d006-4a00-b268-9a041935a960",
   "metadata": {},
   "outputs": [],
   "source": []
  }
 ],
 "metadata": {
  "kernelspec": {
   "display_name": "",
   "name": ""
  },
  "language_info": {
   "name": ""
  }
 },
 "nbformat": 4,
 "nbformat_minor": 5
}
